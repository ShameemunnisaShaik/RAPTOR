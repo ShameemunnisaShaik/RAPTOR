{
 "cells": [
  {
   "cell_type": "code",
   "execution_count": 23,
   "metadata": {},
   "outputs": [],
   "source": [
    "class Point:\n",
    "    def __init__(self,x=0,y=0): ##pair of underscores\n",
    "        self.x = x\n",
    "        self.y = y\n",
    "    def distanceFromOrigin(self):\n",
    "        return (self.x**2+self.y**2)**0.5\n",
    "    def distance2Points(self,x1,y1):\n",
    "        return ((x1-self.x)**2+(y1-self.y)**2)**0.5\n",
    "    def MidPoint(self,x1,y1):\n",
    "        return Point((self.x+x1)/2,(self.y+y1)/2)\n",
    "    def print_point(self):\n",
    "        print('({},{})'.format(self.x,self.y))"
   ]
  },
  {
   "cell_type": "code",
   "execution_count": 18,
   "metadata": {},
   "outputs": [
    {
     "name": "stdout",
     "output_type": "stream",
     "text": [
      "0 0\n"
     ]
    }
   ],
   "source": [
    "p1 = Point()\n",
    "print(p1.x,p1.y)"
   ]
  },
  {
   "cell_type": "code",
   "execution_count": 24,
   "metadata": {},
   "outputs": [
    {
     "name": "stdout",
     "output_type": "stream",
     "text": [
      "3 4\n",
      "0.0\n",
      "5.0\n",
      "3.605551275463989\n",
      "2.0 2.5\n",
      "(2.0,2.5)\n"
     ]
    }
   ],
   "source": [
    "p2 = Point(3,4)\n",
    "print(p2.x,p2.y)\n",
    "print(p1.distanceFromOrigin())\n",
    "print(p2.distanceFromOrigin())\n",
    "print(p2.distance2Points(1,1))\n",
    "mid= p2.MidPoint(1,1)\n",
    "print(mid.x,mid.y)\n",
    "mid.print_point()"
   ]
  },
  {
   "cell_type": "code",
   "execution_count": 7,
   "metadata": {},
   "outputs": [
    {
     "data": {
      "text/plain": [
       "8.602325267042627"
      ]
     },
     "execution_count": 7,
     "metadata": {},
     "output_type": "execute_result"
    }
   ],
   "source": [
    "p3 = Point(5,7)\n",
    "p3.distanceFromOrigin()"
   ]
  },
  {
   "cell_type": "code",
   "execution_count": 26,
   "metadata": {},
   "outputs": [
    {
     "ename": "NameError",
     "evalue": "name 'SMS_store' is not defined",
     "output_type": "error",
     "traceback": [
      "\u001b[1;31m---------------------------------------------------------------------------\u001b[0m",
      "\u001b[1;31mNameError\u001b[0m                                 Traceback (most recent call last)",
      "\u001b[1;32m<ipython-input-26-b02b38be03c7>\u001b[0m in \u001b[0;36m<module>\u001b[1;34m\u001b[0m\n\u001b[1;32m----> 1\u001b[1;33m \u001b[0mhelp\u001b[0m\u001b[1;33m(\u001b[0m\u001b[0mSMS_store\u001b[0m\u001b[1;33m)\u001b[0m\u001b[1;33m\u001b[0m\u001b[1;33m\u001b[0m\u001b[0m\n\u001b[0m",
      "\u001b[1;31mNameError\u001b[0m: name 'SMS_store' is not defined"
     ]
    }
   ],
   "source": [
    "help(SMS_store)"
   ]
  },
  {
   "cell_type": "markdown",
   "metadata": {},
   "source": [
    "## SMS_store"
   ]
  },
  {
   "cell_type": "code",
   "execution_count": 88,
   "metadata": {},
   "outputs": [],
   "source": [
    "class SMS_store:\n",
    "    def __init__(self):\n",
    "        self.messages = []\n",
    "    def add_new_arrival(self,from_number,time_arrival,text_of_SMS):\n",
    "        #makes new SMS tuple,insert it after other messges\n",
    "        #in the store. when creating this mesage,its\n",
    "        #has_been_viewed status is set False.\n",
    "        self.messages.append([from_number,time_arrival,text_of_SMS,False])\n",
    "    def message_count(self):\n",
    "        #Returns the number of sms messages in my_inbox\n",
    "        return len(self.messages)\n",
    "    def get_unread_indexes(self):\n",
    "        #Returns list of indexes of all not_yet_views sms message\n",
    "        unread_ind = []\n",
    "        for msg in range(len(self.messages)):\n",
    "            if self.messages[msg][-1] == False:\n",
    "                unread_ind.append(msg)\n",
    "        return unread_ind\n",
    "    def get_message(self,i):\n",
    "        #return (from_number,times_arrived,text_of_sms) for \n",
    "        #Also change its state to\"has been viewed\".\n",
    "        #If there is no message at position i, return None\n",
    "        self.messages[i][-1] = True\n",
    "        return self.messages[i][:3]\n",
    "    def delete(self,i):\n",
    "        #Delete yhe message at index i\n",
    "        self.messages.pop(i)\n",
    "    def clear():\n",
    "        self.messages.clear()\n",
    "        "
   ]
  },
  {
   "cell_type": "code",
   "execution_count": 89,
   "metadata": {},
   "outputs": [
    {
     "data": {
      "text/plain": [
       "[0, 1]"
      ]
     },
     "execution_count": 89,
     "metadata": {},
     "output_type": "execute_result"
    }
   ],
   "source": [
    "sms = SMS_store()\n",
    "sms.add_new_arrival(23432877,'8:90','fdf')\n",
    "sms.add_new_arrival(23432878,'8:00','frgdfdf')\n",
    "sms.message_count()\n",
    "sms.get_unread_indexes()"
   ]
  },
  {
   "cell_type": "code",
   "execution_count": 93,
   "metadata": {},
   "outputs": [
    {
     "data": {
      "text/plain": [
       "[[23432877, '8:90', 'fdf', True], [23432878, '8:00', 'frgdfdf', True]]"
      ]
     },
     "execution_count": 93,
     "metadata": {},
     "output_type": "execute_result"
    }
   ],
   "source": [
    "sms.messages"
   ]
  },
  {
   "cell_type": "code",
   "execution_count": 92,
   "metadata": {},
   "outputs": [
    {
     "data": {
      "text/plain": [
       "[23432877, '8:90', 'fdf']"
      ]
     },
     "execution_count": 92,
     "metadata": {},
     "output_type": "execute_result"
    }
   ],
   "source": [
    "sms.get_message(0)"
   ]
  },
  {
   "cell_type": "code",
   "execution_count": null,
   "metadata": {},
   "outputs": [],
   "source": []
  },
  {
   "cell_type": "markdown",
   "metadata": {},
   "source": [
    "### RegularExpression\n",
    "- For checking available data valid for us or not\n",
    "- To extract the data\n",
    "- #search,match,findall"
   ]
  },
  {
   "cell_type": "code",
   "execution_count": 95,
   "metadata": {},
   "outputs": [],
   "source": [
    "import re"
   ]
  },
  {
   "cell_type": "markdown",
   "metadata": {},
   "source": [
    "**re.search(str_pattren,str_data)**"
   ]
  },
  {
   "cell_type": "code",
   "execution_count": 99,
   "metadata": {},
   "outputs": [
    {
     "name": "stdout",
     "output_type": "stream",
     "text": [
      "<re.Match object; span=(12, 13), match='a'>\n",
      "<re.Match object; span=(0, 1), match='p'>\n",
      "None\n"
     ]
    }
   ],
   "source": [
    "name = 'python program'\n",
    "print(re.search('a',name))\n",
    "print(re.search('p',name))\n",
    "print(re.search('z',name))"
   ]
  },
  {
   "cell_type": "markdown",
   "metadata": {},
   "source": [
    "##### print the names which contains 'u' in their name by using RE"
   ]
  },
  {
   "cell_type": "code",
   "execution_count": 102,
   "metadata": {},
   "outputs": [
    {
     "name": "stdout",
     "output_type": "stream",
     "text": [
      "hanuman\n",
      "raju\n"
     ]
    }
   ],
   "source": [
    "names = ['sairam','lakshmi','hanuman','raju']\n",
    "for i in names:\n",
    "    if re.search('u',i):\n",
    "        print(i)"
   ]
  },
  {
   "cell_type": "markdown",
   "metadata": {},
   "source": [
    "#### re.match(str_pattern,str_data)"
   ]
  },
  {
   "cell_type": "code",
   "execution_count": 104,
   "metadata": {},
   "outputs": [
    {
     "name": "stdout",
     "output_type": "stream",
     "text": [
      "<re.Match object; span=(0, 1), match='p'>\n"
     ]
    }
   ],
   "source": [
    "name = 'python program'    #match will matches at starting onwords upto string completed\n",
    "print(re.match('p',name))"
   ]
  },
  {
   "cell_type": "code",
   "execution_count": 105,
   "metadata": {},
   "outputs": [
    {
     "name": "stdout",
     "output_type": "stream",
     "text": [
      "None\n"
     ]
    }
   ],
   "source": [
    "name = 'python program'\n",
    "print(re.match('r',name))"
   ]
  },
  {
   "cell_type": "code",
   "execution_count": 106,
   "metadata": {},
   "outputs": [
    {
     "name": "stdout",
     "output_type": "stream",
     "text": [
      "<re.Match object; span=(0, 2), match='py'>\n"
     ]
    }
   ],
   "source": [
    "name = 'python program'\n",
    "print(re.match('py',name))"
   ]
  },
  {
   "cell_type": "code",
   "execution_count": 107,
   "metadata": {},
   "outputs": [
    {
     "name": "stdout",
     "output_type": "stream",
     "text": [
      "None\n"
     ]
    }
   ],
   "source": [
    "name = 'python program'\n",
    "print(re.match('pr',name))"
   ]
  },
  {
   "cell_type": "markdown",
   "metadata": {},
   "source": [
    "## re.findall(str_pattern,str_data)"
   ]
  },
  {
   "cell_type": "code",
   "execution_count": 111,
   "metadata": {},
   "outputs": [
    {
     "name": "stdout",
     "output_type": "stream",
     "text": [
      "['pro']\n"
     ]
    }
   ],
   "source": [
    "name = 'python programming' #it return all the possibilites\n",
    "print(re.findall('pro',name))"
   ]
  },
  {
   "cell_type": "code",
   "execution_count": 112,
   "metadata": {},
   "outputs": [
    {
     "name": "stdout",
     "output_type": "stream",
     "text": [
      "[]\n"
     ]
    }
   ],
   "source": [
    "name = 'python programming' #it return list\n",
    "print(re.findall('z',name))"
   ]
  },
  {
   "cell_type": "markdown",
   "metadata": {},
   "source": [
    "### special characterswith special meaning in regular expressions\n",
    "#### .dot\n",
    "  \n",
    "* any single charcter"
   ]
  },
  {
   "cell_type": "code",
   "execution_count": 117,
   "metadata": {},
   "outputs": [
    {
     "name": "stdout",
     "output_type": "stream",
     "text": [
      "<re.Match object; span=(0, 1), match='s'>\n"
     ]
    }
   ],
   "source": [
    "print(re.search('.','sairam'))  #dot will matches any single characters only"
   ]
  },
  {
   "cell_type": "code",
   "execution_count": 119,
   "metadata": {},
   "outputs": [
    {
     "name": "stdout",
     "output_type": "stream",
     "text": [
      "None\n"
     ]
    }
   ],
   "source": [
    "print(re.search('.',''))"
   ]
  },
  {
   "cell_type": "code",
   "execution_count": 121,
   "metadata": {},
   "outputs": [
    {
     "name": "stdout",
     "output_type": "stream",
     "text": [
      "<re.Match object; span=(0, 2), match='sa'>\n"
     ]
    }
   ],
   "source": [
    "print(re.search('s.','sairam')) #here sa returns because s.means after s single characte willreturn"
   ]
  },
  {
   "cell_type": "code",
   "execution_count": 123,
   "metadata": {},
   "outputs": [
    {
     "name": "stdout",
     "output_type": "stream",
     "text": [
      "<re.Match object; span=(0, 3), match='sai'>\n"
     ]
    }
   ],
   "source": [
    "print(re.search('s..','sairam'))"
   ]
  },
  {
   "cell_type": "code",
   "execution_count": 124,
   "metadata": {},
   "outputs": [
    {
     "name": "stdout",
     "output_type": "stream",
     "text": [
      "<re.Match object; span=(0, 3), match='sai'>\n"
     ]
    }
   ],
   "source": [
    "print(re.search('...','sairam'))"
   ]
  },
  {
   "cell_type": "code",
   "execution_count": 126,
   "metadata": {},
   "outputs": [
    {
     "name": "stdout",
     "output_type": "stream",
     "text": [
      "<re.Match object; span=(0, 2), match='sa'>\n"
     ]
    }
   ],
   "source": [
    "print(re.match('s.','sairam'))"
   ]
  },
  {
   "cell_type": "code",
   "execution_count": 128,
   "metadata": {},
   "outputs": [
    {
     "name": "stdout",
     "output_type": "stream",
     "text": [
      "None\n"
     ]
    }
   ],
   "source": [
    "print(re.search('.....','sai'))"
   ]
  },
  {
   "cell_type": "code",
   "execution_count": 131,
   "metadata": {},
   "outputs": [
    {
     "name": "stdout",
     "output_type": "stream",
     "text": [
      "123\n",
      "1234\n",
      "123\n"
     ]
    }
   ],
   "source": [
    "numbers = ['12','123','1234','123']  #return length of three\n",
    "for number in numbers:\n",
    "    if re.search('...',number):\n",
    "        print(number)"
   ]
  },
  {
   "cell_type": "markdown",
   "metadata": {},
   "source": [
    "###   ^     starting with"
   ]
  },
  {
   "cell_type": "code",
   "execution_count": 132,
   "metadata": {},
   "outputs": [
    {
     "data": {
      "text/plain": [
       "<re.Match object; span=(0, 1), match='s'>"
      ]
     },
     "execution_count": 132,
     "metadata": {},
     "output_type": "execute_result"
    }
   ],
   "source": [
    "re.search('^s','sairam')"
   ]
  },
  {
   "cell_type": "code",
   "execution_count": 136,
   "metadata": {},
   "outputs": [
    {
     "name": "stdout",
     "output_type": "stream",
     "text": [
      "None\n"
     ]
    }
   ],
   "source": [
    "print(re.search('^r','sai ram'))  #here it checkes only starting letters with str_pattern"
   ]
  },
  {
   "cell_type": "code",
   "execution_count": 137,
   "metadata": {},
   "outputs": [
    {
     "data": {
      "text/plain": [
       "<re.Match object; span=(0, 3), match='sai'>"
      ]
     },
     "execution_count": 137,
     "metadata": {},
     "output_type": "execute_result"
    }
   ],
   "source": [
    "re.search('^sai','sairam')"
   ]
  },
  {
   "cell_type": "markdown",
   "metadata": {},
   "source": [
    "### $ ending with"
   ]
  },
  {
   "cell_type": "code",
   "execution_count": 138,
   "metadata": {},
   "outputs": [
    {
     "data": {
      "text/plain": [
       "<re.Match object; span=(5, 6), match='m'>"
      ]
     },
     "execution_count": 138,
     "metadata": {},
     "output_type": "execute_result"
    }
   ],
   "source": [
    "re.search('m$','sairam') #ending with m"
   ]
  },
  {
   "cell_type": "code",
   "execution_count": 141,
   "metadata": {},
   "outputs": [
    {
     "name": "stdout",
     "output_type": "stream",
     "text": [
      "None\n"
     ]
    }
   ],
   "source": [
    "print(re.search('a$','sairam'))  #ending with a"
   ]
  },
  {
   "cell_type": "code",
   "execution_count": 143,
   "metadata": {},
   "outputs": [
    {
     "name": "stdout",
     "output_type": "stream",
     "text": [
      "123\n",
      "123\n"
     ]
    }
   ],
   "source": [
    "numbers = ['12','123','1234','123']  #return only 3character length\n",
    "for number in numbers:\n",
    "    if re.search('^...$',number): \n",
    "        print(number)"
   ]
  },
  {
   "cell_type": "code",
   "execution_count": 145,
   "metadata": {},
   "outputs": [
    {
     "name": "stdout",
     "output_type": "stream",
     "text": [
      "123\n",
      "163\n"
     ]
    }
   ],
   "source": [
    "numbers = ['12','123','1234','163']  #return starting with 1 and ending with 3 middle anything\n",
    "for number in numbers:\n",
    "    if re.search('^1.3$',number): \n",
    "        print(number)"
   ]
  },
  {
   "cell_type": "markdown",
   "metadata": {},
   "source": [
    "## \\d  -   single digit"
   ]
  },
  {
   "cell_type": "code",
   "execution_count": 146,
   "metadata": {},
   "outputs": [
    {
     "data": {
      "text/plain": [
       "<re.Match object; span=(6, 7), match='1'>"
      ]
     },
     "execution_count": 146,
     "metadata": {},
     "output_type": "execute_result"
    }
   ],
   "source": [
    "re.search('\\d','sairam1ram2')"
   ]
  },
  {
   "cell_type": "code",
   "execution_count": 154,
   "metadata": {},
   "outputs": [
    {
     "name": "stdout",
     "output_type": "stream",
     "text": [
      "4\n"
     ]
    }
   ],
   "source": [
    "##Find the sumof all the digitd=s in the data\n",
    "novel = 'every 1has a story or 100 stories of 200'\n",
    "print(sum(map(int,re.findall('\\d',novel))))\n"
   ]
  },
  {
   "cell_type": "code",
   "execution_count": 155,
   "metadata": {},
   "outputs": [
    {
     "name": "stdout",
     "output_type": "stream",
     "text": [
      "['1', '1', '0', '0', '2', '0', '0']\n",
      "[1, 1, 0, 0, 2, 0, 0]\n",
      "4\n"
     ]
    }
   ],
   "source": [
    "str_numbers = re.findall('\\d',novel)\n",
    "print(str_numbers)\n",
    "l = list(map(int,str_numbers))\n",
    "print(l)\n",
    "print(sum(l))"
   ]
  },
  {
   "cell_type": "code",
   "execution_count": 156,
   "metadata": {},
   "outputs": [
    {
     "data": {
      "text/plain": [
       "['100', '200']"
      ]
     },
     "execution_count": 156,
     "metadata": {},
     "output_type": "execute_result"
    }
   ],
   "source": [
    "re.findall('\\d\\d\\d',novel)"
   ]
  },
  {
   "cell_type": "markdown",
   "metadata": {},
   "source": [
    "###   {min,max}"
   ]
  },
  {
   "cell_type": "code",
   "execution_count": 159,
   "metadata": {},
   "outputs": [
    {
     "data": {
      "text/plain": [
       "<re.Match object; span=(0, 2), match='sa'>"
      ]
     },
     "execution_count": 159,
     "metadata": {},
     "output_type": "execute_result"
    }
   ],
   "source": [
    "re.search('.{2}','sairam') #single character but minimum length is 2"
   ]
  },
  {
   "cell_type": "code",
   "execution_count": 160,
   "metadata": {},
   "outputs": [
    {
     "data": {
      "text/plain": [
       "<re.Match object; span=(0, 6), match='sairam'>"
      ]
     },
     "execution_count": 160,
     "metadata": {},
     "output_type": "execute_result"
    }
   ],
   "source": [
    "re.search('.{6}','sairam')"
   ]
  },
  {
   "cell_type": "code",
   "execution_count": 161,
   "metadata": {},
   "outputs": [
    {
     "name": "stdout",
     "output_type": "stream",
     "text": [
      "None\n"
     ]
    }
   ],
   "source": [
    "print(re.search('.{6}','sair'))"
   ]
  },
  {
   "cell_type": "code",
   "execution_count": 163,
   "metadata": {},
   "outputs": [
    {
     "data": {
      "text/plain": [
       "<re.Match object; span=(0, 4), match='sair'>"
      ]
     },
     "execution_count": 163,
     "metadata": {},
     "output_type": "execute_result"
    }
   ],
   "source": [
    "re.search('.{4,6}','sair')  # minimum 4 maximum 6"
   ]
  },
  {
   "cell_type": "code",
   "execution_count": 165,
   "metadata": {},
   "outputs": [
    {
     "name": "stdout",
     "output_type": "stream",
     "text": [
      "<re.Match object; span=(0, 5), match='saira'>\n"
     ]
    }
   ],
   "source": [
    "print(re.search('.{4,6}','saira')) #return 5 charater because minimum4 amd max6 here we 5 character length is in between 4and 6"
   ]
  },
  {
   "cell_type": "code",
   "execution_count": 171,
   "metadata": {},
   "outputs": [
    {
     "name": "stdout",
     "output_type": "stream",
     "text": [
      "['1', '100', '200', '3000']\n"
     ]
    },
    {
     "data": {
      "text/plain": [
       "['1', '100', '200', '300', '0']"
      ]
     },
     "execution_count": 171,
     "metadata": {},
     "output_type": "execute_result"
    }
   ],
   "source": [
    "novel = 'every 1has a story or 100 stories of 200 or 3000 students'\n",
    "print(re.findall('\\d{1,10}',novel))\n",
    "re.findall('\\d{1,3}',novel)"
   ]
  },
  {
   "cell_type": "markdown",
   "metadata": {},
   "source": [
    "##  [ach]\n",
    "\n",
    "- accept names which starts with either 'a','c','h' \n",
    "- either a or c or h\n"
   ]
  },
  {
   "cell_type": "code",
   "execution_count": 172,
   "metadata": {},
   "outputs": [
    {
     "data": {
      "text/plain": [
       "<re.Match object; span=(1, 2), match='a'>"
      ]
     },
     "execution_count": 172,
     "metadata": {},
     "output_type": "execute_result"
    }
   ],
   "source": [
    "re.search('[ach]','sairam')"
   ]
  },
  {
   "cell_type": "code",
   "execution_count": 173,
   "metadata": {},
   "outputs": [
    {
     "name": "stdout",
     "output_type": "stream",
     "text": [
      "None\n"
     ]
    }
   ],
   "source": [
    "print(re.search('[ch]','sairam'))"
   ]
  },
  {
   "cell_type": "code",
   "execution_count": 174,
   "metadata": {},
   "outputs": [
    {
     "data": {
      "text/plain": [
       "<re.Match object; span=(0, 1), match='h'>"
      ]
     },
     "execution_count": 174,
     "metadata": {},
     "output_type": "execute_result"
    }
   ],
   "source": [
    "re.search('[ach]','hai')"
   ]
  },
  {
   "cell_type": "code",
   "execution_count": 176,
   "metadata": {},
   "outputs": [
    {
     "data": {
      "text/plain": [
       "<re.Match object; span=(3, 4), match='h'>"
      ]
     },
     "execution_count": 176,
     "metadata": {},
     "output_type": "execute_result"
    }
   ],
   "source": [
    "re.search('[a-k]','lmnhai') #which return first elements only"
   ]
  },
  {
   "cell_type": "markdown",
   "metadata": {},
   "source": [
    "### [^acd]\n",
    "neither a nor c nor d \n",
    "- other than acd"
   ]
  },
  {
   "cell_type": "code",
   "execution_count": 177,
   "metadata": {},
   "outputs": [
    {
     "data": {
      "text/plain": [
       "<re.Match object; span=(6, 7), match='s'>"
      ]
     },
     "execution_count": 177,
     "metadata": {},
     "output_type": "execute_result"
    }
   ],
   "source": [
    "re.search('[^ach]','achachsmee')"
   ]
  },
  {
   "cell_type": "markdown",
   "metadata": {},
   "source": [
    "#### try mobile number pattern"
   ]
  },
  {
   "cell_type": "code",
   "execution_count": 188,
   "metadata": {},
   "outputs": [
    {
     "name": "stdout",
     "output_type": "stream",
     "text": [
      "9848022338\n",
      "7848090439\n"
     ]
    }
   ],
   "source": [
    "numbers = ['9848022338','984802233','7848090439','5848022338']\n",
    "for phone in numbers:\n",
    "    p= '^[6-9]{1}[0-9]{9}'\n",
    "    pattern = '^[6-9]\\d{9}'\n",
    "    if re.search('^[6-9][0-9]{9}',phone):\n",
    "        print(phone)"
   ]
  },
  {
   "cell_type": "markdown",
   "metadata": {},
   "source": [
    "### \\D other than \\d single character"
   ]
  },
  {
   "cell_type": "code",
   "execution_count": 287,
   "metadata": {},
   "outputs": [
    {
     "data": {
      "text/plain": [
       "<re.Match object; span=(3, 4), match=' '>"
      ]
     },
     "execution_count": 287,
     "metadata": {},
     "output_type": "execute_result"
    }
   ],
   "source": [
    "re.search('\\D','123 ram')"
   ]
  },
  {
   "cell_type": "code",
   "execution_count": 288,
   "metadata": {},
   "outputs": [
    {
     "data": {
      "text/plain": [
       "<re.Match object; span=(3, 4), match='r'>"
      ]
     },
     "execution_count": 288,
     "metadata": {},
     "output_type": "execute_result"
    }
   ],
   "source": [
    "re.search('\\D','123ram')"
   ]
  },
  {
   "cell_type": "markdown",
   "metadata": {},
   "source": [
    "### \\s any spacing sigle character"
   ]
  },
  {
   "cell_type": "code",
   "execution_count": 289,
   "metadata": {},
   "outputs": [
    {
     "data": {
      "text/plain": [
       "<re.Match object; span=(3, 4), match=' '>"
      ]
     },
     "execution_count": 289,
     "metadata": {},
     "output_type": "execute_result"
    }
   ],
   "source": [
    "re.search('\\s','123 ram')"
   ]
  },
  {
   "cell_type": "markdown",
   "metadata": {},
   "source": [
    "### \\S\n",
    "otherthan \\s"
   ]
  },
  {
   "cell_type": "code",
   "execution_count": 290,
   "metadata": {},
   "outputs": [
    {
     "data": {
      "text/plain": [
       "<re.Match object; span=(2, 3), match='r'>"
      ]
     },
     "execution_count": 290,
     "metadata": {},
     "output_type": "execute_result"
    }
   ],
   "source": [
    "re.search('\\S','  ram')"
   ]
  },
  {
   "cell_type": "markdown",
   "metadata": {},
   "source": [
    "### \\w    single identifier character\n",
    "a-z,A-Z,_,0-9"
   ]
  },
  {
   "cell_type": "code",
   "execution_count": 291,
   "metadata": {},
   "outputs": [
    {
     "data": {
      "text/plain": [
       "<re.Match object; span=(1, 2), match='_'>"
      ]
     },
     "execution_count": 291,
     "metadata": {},
     "output_type": "execute_result"
    }
   ],
   "source": [
    "re.search('\\w',' _9az')"
   ]
  },
  {
   "cell_type": "code",
   "execution_count": 292,
   "metadata": {},
   "outputs": [
    {
     "data": {
      "text/plain": [
       "<re.Match object; span=(0, 1), match='1'>"
      ]
     },
     "execution_count": 292,
     "metadata": {},
     "output_type": "execute_result"
    }
   ],
   "source": [
    "re.search('\\w','123 ram')"
   ]
  },
  {
   "cell_type": "markdown",
   "metadata": {},
   "source": [
    "###  \\W other than \\w"
   ]
  },
  {
   "cell_type": "code",
   "execution_count": 293,
   "metadata": {},
   "outputs": [
    {
     "data": {
      "text/plain": [
       "<re.Match object; span=(5, 6), match=' '>"
      ]
     },
     "execution_count": 293,
     "metadata": {},
     "output_type": "execute_result"
    }
   ],
   "source": [
    "re.search('\\W','sai1_ ram')"
   ]
  },
  {
   "cell_type": "markdown",
   "metadata": {},
   "source": [
    "find the count of lowercase a-z in the givendata"
   ]
  },
  {
   "cell_type": "code",
   "execution_count": 294,
   "metadata": {},
   "outputs": [
    {
     "name": "stdout",
     "output_type": "stream",
     "text": [
      "['v', 'e', 'r', 'y', 'h', 'a', 's', 't', 'o', 'r', 'y']\n",
      "11\n"
     ]
    }
   ],
   "source": [
    "novel = 'Every 1 has Story'\n",
    "#output 11\n",
    "chars = re.findall('[a-z]',novel)\n",
    "print(chars)\n",
    "print(len(chars))\n"
   ]
  },
  {
   "cell_type": "code",
   "execution_count": 295,
   "metadata": {},
   "outputs": [
    {
     "name": "stdout",
     "output_type": "stream",
     "text": [
      "['e', 'a', 'o']\n",
      "3\n"
     ]
    }
   ],
   "source": [
    "novel = 'Every 1 has Story'\n",
    "#output 11\n",
    "chars = re.findall('[aeiou]',novel)\n",
    "print(chars)\n",
    "print(len(chars))"
   ]
  },
  {
   "cell_type": "code",
   "execution_count": 296,
   "metadata": {},
   "outputs": [
    {
     "name": "stdout",
     "output_type": "stream",
     "text": [
      "['E', 'v', 'r', 'y', ' ', '1', ' ', 'h', 's', ' ', 'S', 't', 'r', 'y']\n",
      "14\n"
     ]
    }
   ],
   "source": [
    "novel = 'Every 1 has Story'\n",
    "#output 11\n",
    "chars = re.findall('[^a^e^i^o^u]',novel)\n",
    "print(chars)\n",
    "print(len(chars))"
   ]
  },
  {
   "cell_type": "markdown",
   "metadata": {},
   "source": [
    "#### star *\n",
    "zero or more occurances"
   ]
  },
  {
   "cell_type": "code",
   "execution_count": 297,
   "metadata": {},
   "outputs": [
    {
     "name": "stdout",
     "output_type": "stream",
     "text": [
      "<re.Match object; span=(0, 0), match=''>\n"
     ]
    }
   ],
   "source": [
    "print(re.search('a*','python'))"
   ]
  },
  {
   "cell_type": "code",
   "execution_count": 298,
   "metadata": {},
   "outputs": [
    {
     "name": "stdout",
     "output_type": "stream",
     "text": [
      "<re.Match object; span=(0, 4), match='1111'>\n"
     ]
    }
   ],
   "source": [
    "print(re.search('1*','11112223333411111'))"
   ]
  },
  {
   "cell_type": "code",
   "execution_count": 299,
   "metadata": {},
   "outputs": [
    {
     "name": "stdout",
     "output_type": "stream",
     "text": [
      "<re.Match object; span=(0, 4), match='saim'>\n"
     ]
    }
   ],
   "source": [
    "\n",
    "print(re.search('^s.*m$','saim'))"
   ]
  },
  {
   "cell_type": "code",
   "execution_count": 300,
   "metadata": {},
   "outputs": [
    {
     "name": "stdout",
     "output_type": "stream",
     "text": [
      "None\n"
     ]
    }
   ],
   "source": [
    "print(re.search('^s*m$','szzzm'))"
   ]
  },
  {
   "cell_type": "markdown",
   "metadata": {},
   "source": [
    "###   + 1or more"
   ]
  },
  {
   "cell_type": "code",
   "execution_count": 301,
   "metadata": {},
   "outputs": [
    {
     "name": "stdout",
     "output_type": "stream",
     "text": [
      "<re.Match object; span=(2, 3), match='1'>\n"
     ]
    }
   ],
   "source": [
    "print(re.search('1+','23142133213123423432'))"
   ]
  },
  {
   "cell_type": "code",
   "execution_count": 302,
   "metadata": {},
   "outputs": [
    {
     "name": "stdout",
     "output_type": "stream",
     "text": [
      "None\n"
     ]
    }
   ],
   "source": [
    "print(re.search('5+','23142133213123423432'))"
   ]
  },
  {
   "cell_type": "code",
   "execution_count": 303,
   "metadata": {},
   "outputs": [],
   "source": [
    "re.search('^s.+m$','sm')"
   ]
  },
  {
   "cell_type": "code",
   "execution_count": 304,
   "metadata": {},
   "outputs": [
    {
     "data": {
      "text/plain": [
       "<re.Match object; span=(0, 6), match='sairam'>"
      ]
     },
     "execution_count": 304,
     "metadata": {},
     "output_type": "execute_result"
    }
   ],
   "source": [
    "re.search('^s.+m$','sairam')"
   ]
  },
  {
   "cell_type": "markdown",
   "metadata": {},
   "source": [
    "###### write pattern for accepting gmail\n",
    "- shameemunnisa521@gmail.com\n",
    "- shameemunnisa@apssdc.in"
   ]
  },
  {
   "cell_type": "code",
   "execution_count": 316,
   "metadata": {},
   "outputs": [
    {
     "name": "stdout",
     "output_type": "stream",
     "text": [
      "shameemunnisa521@gmail.com\n",
      "shameemunnisa@apssdc.in\n",
      "abc_123@edu.co.in\n"
     ]
    }
   ],
   "source": [
    "mails = ['shameemunnisa521@gmail.com','shameemunnisa@apssdc.in','abc_123@edu.co.in']\n",
    "for mail in mails:\n",
    "    if re.search('^\\w+([\\.-]?\\w+)*@\\w+([\\.-]?\\w+)*(\\.\\w{2,3})+$',mail):\n",
    "        print(mail)"
   ]
  },
  {
   "cell_type": "code",
   "execution_count": 306,
   "metadata": {},
   "outputs": [],
   "source": [
    "import os"
   ]
  },
  {
   "cell_type": "code",
   "execution_count": 307,
   "metadata": {},
   "outputs": [
    {
     "data": {
      "text/plain": [
       "'C:\\\\Users\\\\DELL\\\\Desktop\\\\Advanced Python'"
      ]
     },
     "execution_count": 307,
     "metadata": {},
     "output_type": "execute_result"
    }
   ],
   "source": [
    "os.getcwd()"
   ]
  },
  {
   "cell_type": "code",
   "execution_count": 232,
   "metadata": {},
   "outputs": [
    {
     "data": {
      "text/plain": [
       "['.ipynb_checkpoints',\n",
       " 'Advanced Python.ipynb',\n",
       " 'class,regular expressions,os.ipynb',\n",
       " 'myfunction.py',\n",
       " '__pycache__']"
      ]
     },
     "execution_count": 232,
     "metadata": {},
     "output_type": "execute_result"
    }
   ],
   "source": [
    "os.listdir()"
   ]
  },
  {
   "cell_type": "code",
   "execution_count": null,
   "metadata": {},
   "outputs": [],
   "source": [
    "print(len(os.listdir('G:/Movies')))"
   ]
  },
  {
   "cell_type": "code",
   "execution_count": 242,
   "metadata": {},
   "outputs": [],
   "source": [
    "os.mkdir('shameem')"
   ]
  },
  {
   "cell_type": "code",
   "execution_count": 243,
   "metadata": {},
   "outputs": [],
   "source": [
    "import statistics\n"
   ]
  },
  {
   "cell_type": "code",
   "execution_count": 244,
   "metadata": {},
   "outputs": [
    {
     "data": {
      "text/plain": [
       "['Decimal',\n",
       " 'Fraction',\n",
       " 'StatisticsError',\n",
       " '__all__',\n",
       " '__builtins__',\n",
       " '__cached__',\n",
       " '__doc__',\n",
       " '__file__',\n",
       " '__loader__',\n",
       " '__name__',\n",
       " '__package__',\n",
       " '__spec__',\n",
       " '_coerce',\n",
       " '_convert',\n",
       " '_counts',\n",
       " '_exact_ratio',\n",
       " '_fail_neg',\n",
       " '_find_lteq',\n",
       " '_find_rteq',\n",
       " '_isfinite',\n",
       " '_ss',\n",
       " '_sum',\n",
       " 'bisect_left',\n",
       " 'bisect_right',\n",
       " 'collections',\n",
       " 'groupby',\n",
       " 'harmonic_mean',\n",
       " 'math',\n",
       " 'mean',\n",
       " 'median',\n",
       " 'median_grouped',\n",
       " 'median_high',\n",
       " 'median_low',\n",
       " 'mode',\n",
       " 'numbers',\n",
       " 'pstdev',\n",
       " 'pvariance',\n",
       " 'stdev',\n",
       " 'variance']"
      ]
     },
     "execution_count": 244,
     "metadata": {},
     "output_type": "execute_result"
    }
   ],
   "source": [
    "dir(statistics)"
   ]
  },
  {
   "cell_type": "code",
   "execution_count": 259,
   "metadata": {},
   "outputs": [
    {
     "data": {
      "text/plain": [
       "4.25"
      ]
     },
     "execution_count": 259,
     "metadata": {},
     "output_type": "execute_result"
    }
   ],
   "source": [
    "statistics.mean([4,4,4,5])"
   ]
  },
  {
   "cell_type": "code",
   "execution_count": 249,
   "metadata": {},
   "outputs": [
    {
     "data": {
      "text/plain": [
       "35.0"
      ]
     },
     "execution_count": 249,
     "metadata": {},
     "output_type": "execute_result"
    }
   ],
   "source": [
    "statistics.median([50,20,30,10,40,60])"
   ]
  },
  {
   "cell_type": "code",
   "execution_count": 264,
   "metadata": {},
   "outputs": [
    {
     "data": {
      "text/plain": [
       "40"
      ]
     },
     "execution_count": 264,
     "metadata": {},
     "output_type": "execute_result"
    }
   ],
   "source": [
    "statistics.median_high([50,20,30,10,40,60])"
   ]
  },
  {
   "cell_type": "code",
   "execution_count": 265,
   "metadata": {},
   "outputs": [
    {
     "data": {
      "text/plain": [
       "30"
      ]
     },
     "execution_count": 265,
     "metadata": {},
     "output_type": "execute_result"
    }
   ],
   "source": [
    "statistics.median_low([50,20,30,10,40,60])"
   ]
  },
  {
   "cell_type": "code",
   "execution_count": 266,
   "metadata": {},
   "outputs": [],
   "source": [
    "from collections import Counter"
   ]
  },
  {
   "cell_type": "code",
   "execution_count": 269,
   "metadata": {},
   "outputs": [
    {
     "name": "stdout",
     "output_type": "stream",
     "text": [
      "[10, 10, 10, 10, 10, 20, 30]\n",
      "[(10, 5), (20, 1), (30, 1)]\n"
     ]
    }
   ],
   "source": [
    "cnt = Counter([10,20,30,10,10,10,10])\n",
    "print(list(cnt.elements()))\n",
    "print(cnt.most_common())"
   ]
  },
  {
   "cell_type": "code",
   "execution_count": 280,
   "metadata": {},
   "outputs": [
    {
     "name": "stdout",
     "output_type": "stream",
     "text": [
      "['a', 'a', 'a', 'b', 'b', 'c', 'c', 'c', 'n']\n",
      "[('a', 3)]\n",
      "[('a', 3), ('c', 3)]\n",
      "[('a', 3), ('c', 3), ('b', 2), ('n', 1)]\n"
     ]
    }
   ],
   "source": [
    "cnt1 = Counter('abcancabc')\n",
    "print(list(cnt1.elements()))\n",
    "print(cnt1.most_common(1))\n",
    "print(cnt1.most_common(2))\n",
    "print(cnt1.most_common(4))"
   ]
  },
  {
   "cell_type": "code",
   "execution_count": 281,
   "metadata": {
    "collapsed": true
   },
   "outputs": [
    {
     "name": "stdout",
     "output_type": "stream",
     "text": [
      "['ArithmeticError', 'AssertionError', 'AttributeError', 'BaseException', 'BlockingIOError', 'BrokenPipeError', 'BufferError', 'BytesWarning', 'ChildProcessError', 'ConnectionAbortedError', 'ConnectionError', 'ConnectionRefusedError', 'ConnectionResetError', 'DeprecationWarning', 'EOFError', 'Ellipsis', 'EnvironmentError', 'Exception', 'False', 'FileExistsError', 'FileNotFoundError', 'FloatingPointError', 'FutureWarning', 'GeneratorExit', 'IOError', 'ImportError', 'ImportWarning', 'IndentationError', 'IndexError', 'InterruptedError', 'IsADirectoryError', 'KeyError', 'KeyboardInterrupt', 'LookupError', 'MemoryError', 'ModuleNotFoundError', 'NameError', 'None', 'NotADirectoryError', 'NotImplemented', 'NotImplementedError', 'OSError', 'OverflowError', 'PendingDeprecationWarning', 'PermissionError', 'ProcessLookupError', 'RecursionError', 'ReferenceError', 'ResourceWarning', 'RuntimeError', 'RuntimeWarning', 'StopAsyncIteration', 'StopIteration', 'SyntaxError', 'SyntaxWarning', 'SystemError', 'SystemExit', 'TabError', 'TimeoutError', 'True', 'TypeError', 'UnboundLocalError', 'UnicodeDecodeError', 'UnicodeEncodeError', 'UnicodeError', 'UnicodeTranslateError', 'UnicodeWarning', 'UserWarning', 'ValueError', 'Warning', 'WindowsError', 'ZeroDivisionError', '__IPYTHON__', '__build_class__', '__debug__', '__doc__', '__import__', '__loader__', '__name__', '__package__', '__spec__', 'abs', 'all', 'any', 'ascii', 'bin', 'bool', 'breakpoint', 'bytearray', 'bytes', 'callable', 'chr', 'classmethod', 'compile', 'complex', 'copyright', 'credits', 'delattr', 'dict', 'dir', 'display', 'divmod', 'enumerate', 'eval', 'exec', 'filter', 'float', 'format', 'frozenset', 'get_ipython', 'getattr', 'globals', 'hasattr', 'hash', 'help', 'hex', 'id', 'input', 'int', 'isinstance', 'issubclass', 'iter', 'len', 'license', 'list', 'locals', 'map', 'max', 'memoryview', 'min', 'next', 'object', 'oct', 'open', 'ord', 'pow', 'print', 'property', 'range', 'repr', 'reversed', 'round', 'set', 'setattr', 'slice', 'sorted', 'staticmethod', 'str', 'sum', 'super', 'tuple', 'type', 'vars', 'zip']\n"
     ]
    }
   ],
   "source": [
    "print(dir(__builtins__))"
   ]
  },
  {
   "cell_type": "code",
   "execution_count": 282,
   "metadata": {
    "collapsed": true
   },
   "outputs": [
    {
     "name": "stdout",
     "output_type": "stream",
     "text": [
      "\n",
      "Please wait a moment while I gather a list of all available modules...\n",
      "\n"
     ]
    },
    {
     "name": "stderr",
     "output_type": "stream",
     "text": [
      "C:\\Users\\DELL\\Anaconda3\\lib\\site-packages\\IPython\\kernel\\__init__.py:13: ShimWarning: The `IPython.kernel` package has been deprecated since IPython 4.0.You should import from ipykernel or jupyter_client instead.\n",
      "  \"You should import from ipykernel or jupyter_client instead.\", ShimWarning)\n",
      "WARNING: AstropyDeprecationWarning: astropy.utils.compat.futures is now deprecated - use concurrent.futures instead [astropy.utils.compat.futures]\n",
      "WARNING: The conda.compat module is deprecated and will be removed in a future release.\n",
      "C:\\Users\\DELL\\Anaconda3\\lib\\site-packages\\distributed\\config.py:20: YAMLLoadWarning: calling yaml.load() without Loader=... is deprecated, as the default Loader is unsafe. Please read https://msg.pyyaml.org/load for full details.\n",
      "  defaults = yaml.load(f)\n",
      "C:\\Users\\DELL\\Anaconda3\\lib\\site-packages\\nltk\\twitter\\__init__.py:22: UserWarning: The twython library has not been installed. Some functionality from the twitter package will not be available.\n",
      "  \"The twython library has not been installed. \"\n",
      "C:\\Users\\DELL\\Anaconda3\\lib\\site-packages\\skimage\\novice\\__init__.py:103: UserWarning: The `skimage.novice` module was deprecated in version 0.14. It will be removed in 0.16.\n",
      "  warnings.warn(\"The `skimage.novice` module was deprecated in version 0.14. \"\n",
      "C:\\Users\\DELL\\Anaconda3\\lib\\site-packages\\skimage\\viewer\\utils\\core.py:10: UserWarning: Recommended matplotlib backend is `Agg` for full skimage.viewer functionality.\n",
      "  warn(\"Recommended matplotlib backend is `Agg` for full \"\n",
      "C:\\Users\\DELL\\Anaconda3\\lib\\site-packages\\sphinx\\websupport\\__init__.py:25: RemovedInSphinx20Warning: sphinx.websupport module is now provided as sphinxcontrib-websupport. sphinx.websupport will be removed at Sphinx-2.0. Please use the package instead.\n",
      "  RemovedInSphinx20Warning)\n",
      "C:\\Users\\DELL\\Anaconda3\\lib\\site-packages\\qtawesome\\iconic_font.py:276: UserWarning: You need to have a running QApplication to use QtAwesome!\n",
      "  warnings.warn(\"You need to have a running \"\n",
      "C:\\Users\\DELL\\Anaconda3\\lib\\pkgutil.py:107: VisibleDeprecationWarning: zmq.eventloop.minitornado is deprecated in pyzmq 14.0 and will be removed.\n",
      "    Install tornado itself to use zmq with the tornado IOLoop.\n",
      "    \n",
      "  yield from walk_packages(path, info.name+'.', onerror)\n"
     ]
    },
    {
     "name": "stdout",
     "output_type": "stream",
     "text": [
      "Crypto              builtins            mistune             sortedcontainers\n",
      "Cython              bz2                 mkl                 soupsieve\n",
      "IPython             cProfile            mkl_fft             sphinx\n",
      "OpenSSL             calendar            mkl_random          sphinxcontrib\n",
      "PIL                 certifi             mmap                spyder\n",
      "PyQt5               cffi                mmapfile            spyder_breakpoints\n",
      "__future__          cgi                 mmsystem            spyder_io_dcm\n",
      "_abc                cgitb               modulefinder        spyder_io_hdf5\n",
      "_ast                chardet             more_itertools      spyder_kernels\n",
      "_asyncio            chunk               mpmath              spyder_profiler\n",
      "_bisect             click               msgpack             spyder_pylint\n",
      "_blake2             cloudpickle         msilib              sqlalchemy\n",
      "_bootlocale         clyent              msvcrt              sqlite3\n",
      "_bz2                cmath               multipledispatch    sre_compile\n",
      "_cffi_backend       cmd                 multiprocessing     sre_constants\n",
      "_codecs             code                myfunction          sre_parse\n",
      "_codecs_cn          codecs              navigator_updater   ssl\n",
      "_codecs_hk          codeop              nbconvert           sspi\n",
      "_codecs_iso2022     collections         nbformat            sspicon\n",
      "_codecs_jp          colorama            netbios             stat\n",
      "_codecs_kr          colorsys            netrc               statistics\n",
      "_codecs_tw          commctrl            networkx            statsmodels\n",
      "_collections        compileall          nltk                storemagic\n",
      "_collections_abc    comtypes            nntplib             string\n",
      "_compat_pickle      concurrent          nose                stringprep\n",
      "_compression        conda               notebook            struct\n",
      "_contextvars        conda_build         nt                  subprocess\n",
      "_csv                conda_env           ntpath              sunau\n",
      "_ctypes             conda_verify        ntsecuritycon       symbol\n",
      "_ctypes_test        configparser        nturl2path          sympy\n",
      "_datetime           contextlib          numba               sympyprinting\n",
      "_decimal            contextlib2         numbers             symtable\n",
      "_dummy_thread       contextvars         numexpr             sys\n",
      "_elementtree        copy                numpy               sysconfig\n",
      "_functools          copyreg             numpydoc            tables\n",
      "_hashlib            crypt               odbc                tabnanny\n",
      "_heapq              cryptography        olefile             tarfile\n",
      "_imp                csv                 opcode              tblib\n",
      "_io                 ctypes              openpyxl            telnetlib\n",
      "_json               curl                operator            tempfile\n",
      "_locale             curses              optparse            terminado\n",
      "_lsprof             cv2                 os                  test\n",
      "_lzma               cwp                 packaging           test_data\n",
      "_markupbase         cycler              pandas              test_path\n",
      "_md5                cython              pandocfilters       test_pycosat\n",
      "_msi                cythonmagic         parser              testpath\n",
      "_multibytecodec     cytoolz             parso               tests\n",
      "_multiprocessing    dask                partd               textwrap\n",
      "_nsis               dataclasses         past                this\n",
      "_opcode             datetime            path                threading\n",
      "_operator           dateutil            pathlib             time\n",
      "_osx_support        dbi                 pathlib2            timeit\n",
      "_overlapped         dbm                 patsy               timer\n",
      "_pickle             dde                 pdb                 tkinter\n",
      "_py_abc             decimal             pep8                tlz\n",
      "_pydecimal          decorator           perfmon             token\n",
      "_pyio               defusedxml          pickle              tokenize\n",
      "_pylief             difflib             pickleshare         toolz\n",
      "_pyrsistent_version dis                 pickletools         tornado\n",
      "_pytest             distributed         pip                 tqdm\n",
      "_queue              distutils           pipes               trace\n",
      "_random             doctest             pkg_resources       traceback\n",
      "_sha1               docutils            pkginfo             tracemalloc\n",
      "_sha256             dummy_threading     pkgutil             traitlets\n",
      "_sha3               easy_install        platform            tty\n",
      "_sha512             email               plistlib            turtle\n",
      "_signal             encodings           pluggy              turtledemo\n",
      "_sitebuiltins       ensurepip           ply                 types\n",
      "_socket             entrypoints         poplib              typing\n",
      "_sqlite3            enum                posixpath           unicodecsv\n",
      "_sre                errno               pprint              unicodedata\n",
      "_ssl                et_xmlfile          profile             unittest\n",
      "_stat               fastcache           prometheus_client   urllib\n",
      "_string             faulthandler        prompt_toolkit      urllib3\n",
      "_strptime           filecmp             pstats              uu\n",
      "_struct             fileinput           psutil              uuid\n",
      "_symtable           filelock            pty                 venv\n",
      "_system_path        flask               pvectorc            warnings\n",
      "_testbuffer         fnmatch             py                  wave\n",
      "_testcapi           formatter           py_compile          wcwidth\n",
      "_testconsole        fractions           pyclbr              weakref\n",
      "_testimportmultiple ftplib              pycodestyle         webbrowser\n",
      "_testmultiphase     functools           pycosat             webencodings\n",
      "_thread             future              pycparser           werkzeug\n",
      "_threading_local    gc                  pycurl              wheel\n",
      "_tkinter            genericpath         pydoc               widgetsnbextension\n",
      "_tracemalloc        getopt              pydoc_data          win2kras\n",
      "_warnings           getpass             pyexpat             win32api\n",
      "_weakref            gettext             pyflakes            win32clipboard\n",
      "_weakrefset         gevent              pygments            win32com\n",
      "_win32sysloader     glob                pylab               win32con\n",
      "_winapi             glob2               pylint              win32console\n",
      "_winxptheme         greenlet            pyodbc              win32cred\n",
      "_yaml               gzip                pyparsing           win32crypt\n",
      "abc                 h5py                pyreadline          win32cryptcon\n",
      "adodbapi            hashlib             pyrsistent          win32event\n",
      "afxres              heapdict            pytest              win32evtlog\n",
      "aifc                heapq               pytest_arraydiff    win32evtlogutil\n",
      "alabaster           hmac                pytest_doctestplus  win32file\n",
      "anaconda_navigator  html                pytest_openfiles    win32gui\n",
      "anaconda_project    html5lib            pytest_remotedata   win32gui_struct\n",
      "antigravity         http                pythoncom           win32help\n",
      "argparse            idlelib             pytz                win32inet\n",
      "array               idna                pywin               win32inetcon\n",
      "asn1crypto          imageio             pywin32_testutil    win32job\n",
      "ast                 imagesize           pywintypes          win32lz\n",
      "astroid             imaplib             pywt                win32net\n",
      "astropy             imghdr              pyximport           win32netcon\n",
      "asynchat            imp                 qtawesome           win32pdh\n",
      "asyncio             importlib           qtconsole           win32pdhquery\n",
      "asyncore            importlib_metadata  qtpy                win32pdhutil\n",
      "atexit              inspect             queue               win32pipe\n",
      "atomicwrites        io                  quopri              win32print\n",
      "attr                ipaddress           random              win32process\n",
      "audioop             ipykernel           rasutil             win32profile\n",
      "autoreload          ipykernel_launcher  re                  win32ras\n",
      "babel               ipython_genutils    readline            win32rcparser\n"
     ]
    },
    {
     "name": "stdout",
     "output_type": "stream",
     "text": [
      "backcall            ipywidgets          regcheck            win32security\n",
      "backports           isapi               regutil             win32service\n",
      "base64              isort               reprlib             win32serviceutil\n",
      "bdb                 isympy              requests            win32timezone\n",
      "binascii            itertools           rlcompleter         win32trace\n",
      "binhex              itsdangerous        rmagic              win32traceutil\n",
      "binstar_client      jdcal               rope                win32transaction\n",
      "bisect              jedi                ruamel_yaml         win32ts\n",
      "bitarray            jinja2              run                 win32ui\n",
      "bkcharts            json                runpy               win32uiole\n",
      "bleach              jsonschema          sched               win32verstamp\n",
      "bokeh               jupyter             scipy               win32wnet\n",
      "boto                jupyter_client      scripts             win_inet_pton\n",
      "bottleneck          jupyter_console     seaborn             win_unicode_console\n",
      "brain_argparse      jupyter_core        secrets             wincertstore\n",
      "brain_attrs         jupyterlab          select              winerror\n",
      "brain_builtin_inference jupyterlab_server   selectors           winioctlcon\n",
      "brain_collections   keyring             send2trash          winnt\n",
      "brain_curses        keyword             servicemanager      winperf\n",
      "brain_dateutil      kiwisolver          setuptools          winpty\n",
      "brain_fstrings      lazy_object_proxy   shelve              winreg\n",
      "brain_functools     lib2to3             shlex               winsound\n",
      "brain_gi            libarchive          shutil              winxpgui\n",
      "brain_hashlib       libfuturize         signal              winxptheme\n",
      "brain_http          libpasteurize       simplegeneric       wrapt\n",
      "brain_io            lief                singledispatch      wsgiref\n",
      "brain_mechanize     linecache           singledispatch_helpers xdrlib\n",
      "brain_multiprocessing llvmlite            sip                 xlrd\n",
      "brain_namedtuple_enum locale              sipconfig           xlsxwriter\n",
      "brain_nose          locket              sipdistutils        xlwings\n",
      "brain_numpy         logging             site                xlwt\n",
      "brain_pkg_resources lxml                six                 xml\n",
      "brain_pytest        lzma                skimage             xmlrpc\n",
      "brain_qt            macpath             sklearn             xxsubtype\n",
      "brain_random        mailbox             smtpd               yaml\n",
      "brain_re            mailcap             smtplib             zict\n",
      "brain_six           markupsafe          sndhdr              zipapp\n",
      "brain_ssl           marshal             snowballstemmer     zipfile\n",
      "brain_subprocess    math                socket              zipimport\n",
      "brain_threading     matplotlib          socketserver        zipp\n",
      "brain_typing        mccabe              socks               zlib\n",
      "brain_uuid          menuinst            sockshandler        zmq\n",
      "bs4                 mimetypes           sortedcollections   \n",
      "\n",
      "Enter any module name to get more help.  Or, type \"modules spam\" to search\n",
      "for modules whose name or summary contain the string \"spam\".\n",
      "\n",
      "DEBUG:matplotlib.pyplot:Loaded backend module://ipykernel.pylab.backend_inline version unknown.\n"
     ]
    }
   ],
   "source": [
    "help('modules')"
   ]
  },
  {
   "cell_type": "code",
   "execution_count": 285,
   "metadata": {},
   "outputs": [],
   "source": [
    "import sys"
   ]
  },
  {
   "cell_type": "code",
   "execution_count": 286,
   "metadata": {},
   "outputs": [
    {
     "data": {
      "text/plain": [
       "['C:\\\\Users\\\\DELL\\\\Anaconda3\\\\lib\\\\site-packages\\\\spyder\\\\utils\\\\help',\n",
       " 'C:\\\\Users\\\\DELL\\\\Desktop\\\\Advanced Python',\n",
       " 'C:\\\\Users\\\\DELL\\\\Anaconda3\\\\python37.zip',\n",
       " 'C:\\\\Users\\\\DELL\\\\Anaconda3\\\\DLLs',\n",
       " 'C:\\\\Users\\\\DELL\\\\Anaconda3\\\\lib',\n",
       " 'C:\\\\Users\\\\DELL\\\\Anaconda3',\n",
       " '',\n",
       " 'C:\\\\Users\\\\DELL\\\\Anaconda3\\\\lib\\\\site-packages',\n",
       " 'C:\\\\Users\\\\DELL\\\\Anaconda3\\\\lib\\\\site-packages\\\\win32',\n",
       " 'C:\\\\Users\\\\DELL\\\\Anaconda3\\\\lib\\\\site-packages\\\\win32\\\\lib',\n",
       " 'C:\\\\Users\\\\DELL\\\\Anaconda3\\\\lib\\\\site-packages\\\\Pythonwin',\n",
       " 'C:\\\\Users\\\\DELL\\\\Anaconda3\\\\lib\\\\site-packages\\\\IPython\\\\extensions',\n",
       " 'C:\\\\Users\\\\DELL\\\\.ipython',\n",
       " 'C:\\\\Users\\\\DELL\\\\Anaconda3\\\\lib\\\\site-packages\\\\astroid\\\\brain']"
      ]
     },
     "execution_count": 286,
     "metadata": {},
     "output_type": "execute_result"
    }
   ],
   "source": [
    "sys.path"
   ]
  },
  {
   "cell_type": "code",
   "execution_count": null,
   "metadata": {},
   "outputs": [],
   "source": []
  }
 ],
 "metadata": {
  "kernelspec": {
   "display_name": "Python 3",
   "language": "python",
   "name": "python3"
  },
  "language_info": {
   "codemirror_mode": {
    "name": "ipython",
    "version": 3
   },
   "file_extension": ".py",
   "mimetype": "text/x-python",
   "name": "python",
   "nbconvert_exporter": "python",
   "pygments_lexer": "ipython3",
   "version": "3.7.3"
  }
 },
 "nbformat": 4,
 "nbformat_minor": 2
}
